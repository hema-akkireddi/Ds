{
 "cells": [
  {
   "cell_type": "markdown",
   "id": "7374f160-4bd4-44bb-bb03-c04a00f9c490",
   "metadata": {},
   "source": [
    "#Data Science Tools and Ecosystem"
   ]
  },
  {
   "cell_type": "markdown",
   "id": "eee00487-5131-405c-a5fd-de078ea83d5a",
   "metadata": {},
   "source": [
    "In this notebook, Data Science Tools and Ecosystem are summarized."
   ]
  },
  {
   "cell_type": "markdown",
   "id": "c333d97f-faca-4f66-b896-c3f0f9260b0b",
   "metadata": {},
   "source": [
    "Some of the popular languages that Data Scientists use are:\n",
    "1.PYTHON\n",
    "2.R\n",
    "3.SQL\n",
    "4.JULIA\n",
    "5.MATLAB\n",
    "6.JAVA"
   ]
  },
  {
   "cell_type": "markdown",
   "id": "99f747c1-c0db-4dd2-b8d7-591550e4f5d8",
   "metadata": {},
   "source": [
    "Some of the commonly used libraries used by Data Scientists include:\n",
    "Python Libraries\n",
    "1.Pandas\n",
    "2.NumPy\n",
    "3.Scikit-Learn\n",
    "4.TensorFlow\n",
    "5.Keras\n",
    "6.PyTorch\n",
    "7.Matplotlib\n",
    "8.Seabornss\n",
    "9.SciPy\n",
    "10.BeautifulSoup\n",
    "R Libraries\n",
    "1.ggplot2\n",
    "2.dplyr\n",
    "3.caret\n",
    "4.shiny\n",
    "5.plotly\n",
    "SQL Libraries\n",
    "1.PostgreSQL \n",
    "2.MySQL\n",
    "3.SQLite"
   ]
  },
  {
   "cell_type": "markdown",
   "id": "f30de4fd-897f-487f-8eff-187e74a640ee",
   "metadata": {},
   "source": [
    "Data Science Tools\n",
    "1.Jupyter Notebook\n",
    "2.RStudio\n",
    "3.Apache Spark\n",
    "4.TensorFlow\n",
    "5.Hadoop\n",
    "6.Git\n",
    "7.ggplot2 (R)"
   ]
  },
  {
   "cell_type": "markdown",
   "id": "e213b0ac-c43d-43a5-95ab-34d6730bd0d1",
   "metadata": {},
   "source": [
    "###Below are a few examples of evaluating arithmetic expressions in PythonS"
   ]
  },
  {
   "cell_type": "code",
   "execution_count": 1,
   "id": "888760ff-a520-4547-8a25-ac8ce03f37d7",
   "metadata": {},
   "outputs": [
    {
     "data": {
      "text/plain": [
       "17"
      ]
     },
     "execution_count": 1,
     "metadata": {},
     "output_type": "execute_result"
    }
   ],
   "source": [
    "#his a simple arithmetic expression to mutiply then add integers.\n",
    "(3*4)+5"
   ]
  },
  {
   "cell_type": "code",
   "execution_count": 2,
   "id": "c826fa24-aa5d-4c3c-91c8-d5292ac401d9",
   "metadata": {},
   "outputs": [
    {
     "name": "stdout",
     "output_type": "stream",
     "text": [
      "200 minutes is equal to 3.3333333333333335 hours.\n"
     ]
    }
   ],
   "source": [
    "# This will convert 200 minutes to hours by diving by 60.\n",
    "minutes = 200\n",
    "hours = minutes / 60\n",
    "print(f\"{minutes} minutes is equal to {hours} hours.\")\n"
   ]
  },
  {
   "cell_type": "markdown",
   "id": "be90808f-b939-4d0a-9ca0-f2ef650a9543",
   "metadata": {},
   "source": [
    "Objectives:\n",
    "List popular languages for Data Science:\n",
    "*Python\n",
    "*R\n",
    "*SQL\n",
    "*Julia\n",
    "*Java\n",
    "*MATLAB"
   ]
  },
  {
   "cell_type": "code",
   "execution_count": null,
   "id": "69aa449e-7744-4acf-a96f-5cc7771ac7af",
   "metadata": {},
   "outputs": [],
   "source": [
    "Author: Akkireddi Hema\n"
   ]
  }
 ],
 "metadata": {
  "kernelspec": {
   "display_name": "Python 3 (ipykernel)",
   "language": "python",
   "name": "python3"
  },
  "language_info": {
   "codemirror_mode": {
    "name": "ipython",
    "version": 3
   },
   "file_extension": ".py",
   "mimetype": "text/x-python",
   "name": "python",
   "nbconvert_exporter": "python",
   "pygments_lexer": "ipython3",
   "version": "3.12.3"
  }
 },
 "nbformat": 4,
 "nbformat_minor": 5
}
