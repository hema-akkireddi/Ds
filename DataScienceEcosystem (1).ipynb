{
 "cells": [
  {
   "cell_type": "markdown",
   "metadata": {},
   "source": [
    "<center>\n",
    "    <img src=\"https://cf-courses-data.s3.us.cloud-object-storage.appdomain.cloud/IBMDeveloperSkillsNetwork-DS0105EN-SkillsNetwork/labs/Module2/images/SN_web_lightmode.png\" width=\"300\" alt=\"cognitiveclass.ai logo\">\n",
    "</center>\n"
   ]
  },
  {
   "cell_type": "markdown",
   "metadata": {},
   "source": [
    "#### Add your code below following the instructions given in the course\n"
   ]
  },
  {
   "cell_type": "markdown",
   "metadata": {},
   "source": [
    " # Data Science Tools and Ecosystem"
   ]
  },
  {
   "cell_type": "markdown",
   "metadata": {},
   "source": [
    "### In this notebook, Data Science Tools and Ecosystem are summarized."
   ]
  },
  {
   "cell_type": "markdown",
   "metadata": {},
   "source": [
    "Some of the popular languages that Data Scientists use are:<br>\n",
    "1.PYTHON<br>\n",
    "2.R<br>\n",
    "3.SQL<br>\n",
    "4.JULIA<br>\n",
    "5.MATLAB<br>\n",
    "6.JAVA<br>"
   ]
  },
  {
   "cell_type": "markdown",
   "metadata": {},
   "source": [
    "Some of the commonly used libraries used by Data Scientists include:<br>\n",
    "Python Libraries<br>\n",
    "1.Pandas<br>\n",
    "2.NumPy<br>\n",
    "3.Scikit-Learn<br>\n",
    "4.TensorFlow<br>\n",
    "5.Keras<br>\n",
    "6.PyTorch<br>\n",
    "7.Matplotlib<br>\n",
    "8.Seabornss<br>\n",
    "9.SciPy<br>\n",
    "10.BeautifulSoup<br>\n",
    "R Libraries<br>\n",
    "1.ggplot2<br>\n",
    "2.dplyr<br>\n",
    "3.caret<br>\n",
    "4.shiny<br>\n",
    "5.plotly<br>\n",
    "SQL Libraries<br>\n",
    "1.PostgreSQL <br>\n",
    "2.MySQL<br>\n",
    "3.SQLite<br>"
   ]
  },
  {
   "cell_type": "markdown",
   "metadata": {},
   "source": [
    "Data Science Tools<br>\n",
    "1.Jupyter Notebook<br>\n",
    "2.RStudio<br>\n",
    "3.Apache Spark<br>\n",
    "4.TensorFlow<br>\n",
    "5.Hadoop<br>\n",
    "6.Git<br>\n",
    "7.ggplot2 (R)<br>"
   ]
  },
  {
   "cell_type": "markdown",
   "metadata": {},
   "source": [
    "### Below are a few examples of evaluating arithmetic expressions in Python"
   ]
  },
  {
   "cell_type": "code",
   "execution_count": 1,
   "metadata": {
    "tags": []
   },
   "outputs": [
    {
     "data": {
      "text/plain": [
       "17"
      ]
     },
     "execution_count": 1,
     "metadata": {},
     "output_type": "execute_result"
    }
   ],
   "source": [
    "#his a simple arithmetic expression to mutiply then add integers.\n",
    "(3*4)+5"
   ]
  },
  {
   "cell_type": "code",
   "execution_count": 2,
   "metadata": {
    "tags": []
   },
   "outputs": [
    {
     "name": "stdout",
     "output_type": "stream",
     "text": [
      "200 minutes is equal to 3.3333333333333335 hours.\n"
     ]
    }
   ],
   "source": [
    "# This will convert 200 minutes to hours by diving by 60.\n",
    "minutes = 200\n",
    "hours = minutes / 60s\n",
    "print(f\"{minutes} minutes is equal to {hours} hours.\")\n"
   ]
  },
  {
   "cell_type": "markdown",
   "metadata": {},
   "source": [
    "Objectives:<br>\n",
    "List popular languages for Data Science:<br>\n",
    "*Python<br>\n",
    "*R<br>\n",
    "*SQL<br>\n",
    "*Julia<br>\n",
    "*Java<br>\n",
    "*MATLAB<br>"
   ]
  },
  {
   "cell_type": "markdown",
   "metadata": {},
   "source": [
    "Author: Akkireddi Hema\n"
   ]
  },
  {
   "cell_type": "code",
   "execution_count": null,
   "metadata": {},
   "outputs": [],
   "source": []
  }
 ],
 "metadata": {
  "kernelspec": {
   "display_name": "Python",
   "language": "python",
   "name": "conda-env-python-py"
  },
  "language_info": {
   "codemirror_mode": {
    "name": "ipython",
    "version": 3
   },
   "file_extension": ".py",
   "mimetype": "text/x-python",
   "name": "python",
   "nbconvert_exporter": "python",
   "pygments_lexer": "ipython3",
   "version": "3.7.12"
  }
 },
 "nbformat": 4,
 "nbformat_minor": 4
}
